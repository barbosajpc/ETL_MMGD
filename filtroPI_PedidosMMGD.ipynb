{
 "cells": [
  {
   "cell_type": "code",
   "execution_count": 23,
   "metadata": {},
   "outputs": [],
   "source": [
    "import pandas as pd"
   ]
  },
  {
   "cell_type": "code",
   "execution_count": 24,
   "metadata": {},
   "outputs": [
    {
     "name": "stderr",
     "output_type": "stream",
     "text": [
      "C:\\Users\\Cleane\\AppData\\Local\\Temp\\ipykernel_16716\\3172766703.py:2: DtypeWarning: Columns (30,31,32) have mixed types. Specify dtype option on import or set low_memory=False.\n",
      "  data = pd.read_csv(path, encoding='latin-1', sep=';')\n"
     ]
    },
    {
     "name": "stdout",
     "output_type": "stream",
     "text": [
      "Index(['DatGeracaoConjuntoDados', 'AnmPeriodoReferencia',\n",
      "       'NumCNPJDistribuidora', 'SigAgente', 'NomAgente', 'CodClasseConsumo',\n",
      "       'DscClasseConsumo', 'CodSubGrupoTarifario', 'DscSubGrupoTarifario',\n",
      "       'CodUFibge', 'SigUF', 'CodRegiao', 'NomRegiao', 'CodMunicipioIbge',\n",
      "       'NomMunicipio', 'CodCEP', 'SigTipoConsumidor', 'NumCPFCNPJ',\n",
      "       'NomTitularEmpreendimento', 'CodEmpreendimento',\n",
      "       'DthAtualizaCadastralEmpreend', 'SigModalidadeEmpreendimento',\n",
      "       'DscModalidadeHabilitado', 'QtdUCRecebeCredito', 'SigTipoGeracao',\n",
      "       'DscFonteGeracao', 'DscPorte', 'NumCoordNEmpreendimento',\n",
      "       'NumCoordEEmpreendimento', 'MdaPotenciaInstaladaKW', 'NomSubEstacao',\n",
      "       'NumCoordESub', 'NumCoordNSub'],\n",
      "      dtype='object')\n"
     ]
    }
   ],
   "source": [
    "path = r\"C:\\Users\\Cleane\\OneDrive - AGENCIA DE ATRACAO INVESTIMENTOS ESTRATEGICO PIAUI\\Área de Trabalho\\aplications\\filtro dbs\\empreendimento-geracao-distribuida.csv\"\n",
    "data = pd.read_csv(path, encoding='latin-1', sep=';')\n",
    "\n",
    "print(data.columns)\n"
   ]
  },
  {
   "cell_type": "code",
   "execution_count": 25,
   "metadata": {},
   "outputs": [
    {
     "name": "stdout",
     "output_type": "stream",
     "text": [
      "['SC' 'PI' 'PA' 'AL' 'AC' 'AM' nan 'AP' 'BA' 'CE' 'MG' 'DF' 'ES' 'GO' 'RN'\n",
      " 'MA' 'SP' 'PR' 'MS' 'MT' 'PB' 'PE' 'RJ' 'RO' 'RR' 'RS' 'SE' 'TO']\n"
     ]
    }
   ],
   "source": [
    "print(data['SigUF'].unique())"
   ]
  },
  {
   "cell_type": "code",
   "execution_count": 26,
   "metadata": {},
   "outputs": [],
   "source": [
    "data_PI = data[data['SigUF'] == 'PI']"
   ]
  },
  {
   "cell_type": "code",
   "execution_count": 27,
   "metadata": {},
   "outputs": [
    {
     "name": "stdout",
     "output_type": "stream",
     "text": [
      "Arquivo salvo com sucesso!\n"
     ]
    }
   ],
   "source": [
    "# Salvar o DataFrame filtrado como CSV\n",
    "data_PI.to_csv(r'C:\\Users\\Cleane\\OneDrive - AGENCIA DE ATRACAO INVESTIMENTOS ESTRATEGICO PIAUI\\Área de Trabalho\\aplications\\filtro dbs\\empreendimentosGD_PI.csv', index=False, sep=';', encoding='utf-8')\n",
    "\n",
    "print(\"Arquivo salvo com sucesso!\")\n"
   ]
  },
  {
   "cell_type": "code",
   "execution_count": null,
   "metadata": {},
   "outputs": [],
   "source": []
  }
 ],
 "metadata": {
  "kernelspec": {
   "display_name": "base",
   "language": "python",
   "name": "python3"
  },
  "language_info": {
   "codemirror_mode": {
    "name": "ipython",
    "version": 3
   },
   "file_extension": ".py",
   "mimetype": "text/x-python",
   "name": "python",
   "nbconvert_exporter": "python",
   "pygments_lexer": "ipython3",
   "version": "3.11.5"
  }
 },
 "nbformat": 4,
 "nbformat_minor": 2
}
